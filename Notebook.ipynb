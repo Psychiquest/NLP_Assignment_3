{
 "cells": [
  {
   "cell_type": "code",
   "execution_count": 3,
   "metadata": {},
   "outputs": [],
   "source": [
    "a=open(\"data/train.txt\",\"r\")\n",
    "datalines=a.readlines()"
   ]
  },
  {
   "cell_type": "code",
   "execution_count": null,
   "metadata": {},
   "outputs": [],
   "source": []
  },
  {
   "cell_type": "code",
   "execution_count": 4,
   "metadata": {},
   "outputs": [],
   "source": [
    "a=open(\"data/test.txt\",\"r\")\n",
    "datalines=a.readlines()"
   ]
  },
  {
   "cell_type": "code",
   "execution_count": 5,
   "metadata": {},
   "outputs": [],
   "source": [
    "datalines=[x.strip(\"\\n\").split(\"\\t\") for x in datalines]"
   ]
  },
  {
   "cell_type": "code",
   "execution_count": 1,
   "metadata": {},
   "outputs": [],
   "source": [
    "# datalines"
   ]
  },
  {
   "cell_type": "code",
   "execution_count": 6,
   "metadata": {},
   "outputs": [
    {
     "data": {
      "text/plain": [
       "[]"
      ]
     },
     "execution_count": 6,
     "metadata": {},
     "output_type": "execute_result"
    }
   ],
   "source": [
    "data_in_sentences=[[]]\n",
    "for i in datalines:\n",
    "    if i==[\"\"]:\n",
    "        data_in_sentences.append([])\n",
    "    else:\n",
    "        data_in_sentences[-1].append(i)\n",
    "data_in_sentences.pop()"
   ]
  },
  {
   "cell_type": "code",
   "execution_count": 7,
   "metadata": {},
   "outputs": [
    {
     "data": {
      "text/plain": [
       "1869"
      ]
     },
     "execution_count": 7,
     "metadata": {},
     "output_type": "execute_result"
    }
   ],
   "source": [
    "len(data_in_sentences)"
   ]
  },
  {
   "cell_type": "code",
   "execution_count": 8,
   "metadata": {},
   "outputs": [],
   "source": [
    "for i in range(len(data_in_sentences)):\n",
    "    firstline=data_in_sentences[i][0]\n",
    "    data_in_sentences[i][0]=data_in_sentences[i][0][-2:]\n",
    "#     print(firstline[2])\n",
    "    "
   ]
  },
  {
   "cell_type": "code",
   "execution_count": 9,
   "metadata": {},
   "outputs": [],
   "source": [
    "data_dir=[]\n",
    "for i in range(len(data_in_sentences)):\n",
    "    firstline=data_in_sentences[i][0]\n",
    "#     data_in_sentences[i][0]=data_in_sentences[i][0][-2:]\n",
    "    data_dict={\"sentiment\":firstline[-1],\"uid\":firstline[-2],\"tweet\":data_in_sentences[i][1:]}\n",
    "    data_dir.append(data_dict)"
   ]
  },
  {
   "cell_type": "code",
   "execution_count": 19,
   "metadata": {},
   "outputs": [],
   "source": [
    "import pickle\n",
    "pickle.dump(data_dir,open(\"tweet_test_data.pkl\",\"wb\"))"
   ]
  },
  {
   "cell_type": "code",
   "execution_count": 20,
   "metadata": {},
   "outputs": [],
   "source": [
    "import pandas as pd\n",
    "data = pd.read_csv('Hinglish_Profanity_List.csv', encoding= 'cp1252' )"
   ]
  },
  {
   "cell_type": "code",
   "execution_count": 21,
   "metadata": {},
   "outputs": [],
   "source": [
    "hinglish_to_english_dict={}\n",
    "for hinglish,english in zip(data.badir,data.idiot):\n",
    "    hinglish_to_english_dict[hinglish]=english        "
   ]
  },
  {
   "cell_type": "code",
   "execution_count": 22,
   "metadata": {},
   "outputs": [],
   "source": [
    "import json\n",
    "data=json.load(open(\"dictionary_hinglish_transliteration.json\",\"rb\"))"
   ]
  },
  {
   "cell_type": "code",
   "execution_count": 23,
   "metadata": {},
   "outputs": [],
   "source": [
    "data.update(hinglish_to_english_dict)"
   ]
  },
  {
   "cell_type": "code",
   "execution_count": 24,
   "metadata": {},
   "outputs": [
    {
     "data": {
      "text/plain": [
       "dict_keys(['badirchand', 'bakland', 'bhadva', 'bhootnika', 'chinaal', 'chup', 'chutia', 'ghasti', 'chutiya', 'haraami', 'haraam', 'hijra', 'hinjda', 'jaanvar', 'kutta', 'kutiya', 'khota', 'auladheen', 'jaat', 'najayaz', 'gandpaidaish', 'saala', 'kutti', 'soover', 'tatti', 'potty', 'bahenchod', 'bahanchod', 'bahencho', 'bancho', 'bahenke', 'laude', 'takke', 'betichod', 'bhaichod', 'bhains', 'jhalla', 'jhant', 'nabaal', 'pissu', 'kutte', 'maadherchod', 'madarchod', 'padma', 'raand', 'jamai', 'randwa', 'randi', 'bachachod', 'bachichod', 'soower', 'bachchechod', 'ullu', 'pathe', 'banda', 'booblay', 'booby', 'buble', 'babla', 'bhonsriwala', 'bhonsdiwala', 'ched', 'chut', 'chod', 'chodu', 'chodra', 'choochi', 'chuchi', 'gaandu', 'gandu', 'gaand', 'lavda', 'lawda', 'lauda', 'lund\\xa0', 'balchod', 'lavander', 'muth', 'maacho', 'mammey', 'tatte', 'toto', 'toota', 'backar', 'bhandwe', 'bhosadchod', 'bhosad', 'bumchod', 'bum', 'bur', 'chatani', 'cunt', 'cuntmama', 'chipkali', 'pasine', 'jhaat', 'chodela', 'bhagatchod', 'chhola', 'chudai', 'chudaikhana', 'chunni', 'choot', 'bhoot', 'dhakkan', 'bhajiye', 'fateychu', 'gandnatije', 'lundtopi', 'gaandfat', 'gaandmasti', 'makhanchudai', 'gaandmarau', 'chaatu', 'beej', 'choosu', 'fakeerchod', 'lundoos', 'shorba', 'binbheja', 'bhadwe', 'parichod', 'nirodh', 'pucchi', 'baajer', 'choud', 'bhosda', 'sadi', 'choos', 'maka', 'gadde', 'joon', 'chullugand', 'doob', 'khatmal', 'gandkate', 'bambu', 'lassan', 'danda', 'keera', 'keeda', 'hazaarchu', 'paidaishikeeda', 'kali', 'safaid', 'poot', 'behendi', 'chus', 'machudi', 'chodoonga', 'baapchu', 'laltern', 'suhaagchudai', 'raatchuda', 'kaalu', 'neech', 'chikna', 'meetha', 'beechka', 'chooche', 'patichod', 'rundi', 'makkhi', 'biwichod', 'chodhunga', 'haathi', 'kute', 'jhanten', 'kaat', 'gandi', 'gadha', 'bimaar', 'badboodar', 'dum', 'raandsaala', 'phudi', 'chute', 'kussi', 'khandanchod', 'ghussa', 'maarey', 'chipkili', 'unday', 'budh', 'chaarpai', 'chodun', 'chatri', 'chode', 'chodho', 'mulle', 'mulli', 'musalman', 'momedan', 'katua', 'chutiyapa', 'bc', 'mc', 'chudwaya', 'kutton', 'jungli', 'vahiyaat', 'jihadi', 'atankvadi', 'atankwadi', 'aatanki'])"
      ]
     },
     "execution_count": 24,
     "metadata": {},
     "output_type": "execute_result"
    }
   ],
   "source": [
    "hinglish_to_english_dict.keys()"
   ]
  },
  {
   "cell_type": "code",
   "execution_count": 25,
   "metadata": {},
   "outputs": [],
   "source": [
    "pickle.dump(data,open(\"hinglish_to_en.pkl\",\"wb\"))"
   ]
  },
  {
   "cell_type": "code",
   "execution_count": 27,
   "metadata": {},
   "outputs": [],
   "source": [
    "import pickle\n",
    "data_dir=pickle.load(open(\"tweet_data.pkl\",\"rb\"))\n",
    "data_test_dir=pickle.load(open(\"tweet_test_data.pkl\",\"rb\"))\n",
    "hinglish_to_en=pickle.load(open(\"hinglish_to_en.pkl\",\"rb\"))"
   ]
  },
  {
   "cell_type": "code",
   "execution_count": 47,
   "metadata": {},
   "outputs": [],
   "source": [
    "import re\n",
    "import numpy as np\n",
    "from tqdm import tqdm_notebook as tqdm\n",
    "from difflib import get_close_matches\n",
    "from keras.preprocessing.text import Tokenizer\n",
    "from keras.preprocessing.text import one_hot\n",
    "from keras.preprocessing.sequence import pad_sequences\n",
    "from keras.models import Sequential\n",
    "import numpy as np\n",
    "import nltk\n",
    "import keras\n",
    "from keras.preprocessing.text import one_hot\n",
    "from keras.preprocessing.sequence import pad_sequences\n",
    "from keras.models import Sequential\n",
    "from keras.layers.recurrent import LSTM\n",
    "from keras.layers import Conv1D,GlobalMaxPooling1D\n",
    "from keras.layers.core import Activation, Dropout, Dense\n",
    "from keras.layers import Flatten\n",
    "from keras.layers import GlobalMaxPooling1D\n",
    "from keras.layers.embeddings import Embedding\n",
    "from sklearn.model_selection import train_test_split\n",
    "from keras.preprocessing.text import Tokenizer\n",
    "from keras.utils import to_categorical\n",
    "from keras.layers import Input, Embedding, Activation, Flatten, Dense\n",
    "from keras.layers import Conv1D, MaxPooling1D, Dropout,LSTM\n",
    "from keras.models import Model\n"
   ]
  },
  {
   "cell_type": "code",
   "execution_count": 30,
   "metadata": {},
   "outputs": [],
   "source": [
    "n_all_tweets=[]\n",
    "# counter=0\n",
    "for i in data_dir:\n",
    "    tweet_list=i[\"tweet\"]\n",
    "    tweet=\"\"\n",
    "    for j in tweet_list:\n",
    "        if j[0]==\"https\":\n",
    "            break\n",
    "        else:\n",
    "            if j[0] in [\"#\",\"@\",\"_\",\"__\",\"____\"]:\n",
    "                tweet+=j[0]+\" \"\n",
    "                continue\n",
    "            if j[1]==\"Eng\":\n",
    "                tweet+=j[0].lower()+\" \"\n",
    "            elif j[1]==\"Hin\":\n",
    "                jjj=j[0].lower()\n",
    "                if jjj in hinglish_to_en:\n",
    "                    tweet+=hinglish_to_en[jjj]+\" \"\n",
    "                else:\n",
    "                    # closest=get_close_matches(jjj,all_keys,n=1)\n",
    "                    # if len(closest):\n",
    "                    #     tweet+=hinglish_to_en[closest[0]]+\" \"\n",
    "                    # else:\n",
    "                    tweet+=jjj+\" \"\n",
    "    # counter+=1\n",
    "    # print(counter)\n",
    "    n_all_tweets.append(tweet)"
   ]
  },
  {
   "cell_type": "code",
   "execution_count": 32,
   "metadata": {},
   "outputs": [],
   "source": [
    "n_all_test_tweets=[]\n",
    "# counter=0\n",
    "for i in data_test_dir:\n",
    "    tweet_list=i[\"tweet\"]\n",
    "    tweet=\"\"\n",
    "    for j in tweet_list:\n",
    "        if j[0]==\"https\":\n",
    "            break\n",
    "        else:\n",
    "            if j[0] in [\"#\",\"@\",\"_\",\"__\",\"____\"]:\n",
    "                tweet+=j[0]+\" \"\n",
    "                continue\n",
    "            if j[1]==\"Eng\":\n",
    "                tweet+=j[0].lower()+\" \"\n",
    "            elif j[1]==\"Hin\":\n",
    "                jjj=j[0].lower()\n",
    "                if jjj in hinglish_to_en:\n",
    "                    tweet+=hinglish_to_en[jjj]+\" \"\n",
    "                else:\n",
    "                    # closest=get_close_matches(jjj,all_keys,n=1)\n",
    "                    # if len(closest):\n",
    "                    #     tweet+=hinglish_to_en[closest[0]]+\" \"\n",
    "                    # else:\n",
    "                    tweet+=jjj+\" \"\n",
    "    # counter+=1\n",
    "    # print(counter)\n",
    "    n_all_test_tweets.append(tweet)"
   ]
  },
  {
   "cell_type": "code",
   "execution_count": 33,
   "metadata": {},
   "outputs": [],
   "source": [
    "all_new_tweets=[]\n",
    "for i in n_all_tweets:\n",
    "\n",
    "  stri= re.sub(r\"@ \\S+ (_+ [^@ ]+|@ \\S* )*|rt\",\"\",i)\n",
    "  # stri = re.sub(r\"# \\S+\",\"\",stri)\n",
    "  stri=stri.replace(\"'ll\",\" will\")\n",
    "  stri=stri.replace(\"'ve\",\" have\")\n",
    "  stri =stri.replace(\"n't\",\" not\")\n",
    "  stri=stri.replace(\"'m\",\" am\")\n",
    "  stri=stri.replace(\"'re\",\" are\")\n",
    "  \n",
    "  stri=re.sub(r'\\W+', ' ', stri)\n",
    "  stri=stri.replace(\"_\",\" \")\n",
    "  stri=stri.strip()\n",
    "  # if \"#\" in i:\n",
    "  #   print(i,\"   \",stri)\n",
    "  # print(i,\"          \",stri)\n",
    "  all_new_tweets.append(stri)"
   ]
  },
  {
   "cell_type": "code",
   "execution_count": 34,
   "metadata": {},
   "outputs": [],
   "source": [
    "all_new_test_tweets=[]\n",
    "for i in n_all_test_tweets:\n",
    "  stri= re.sub(r\"@ \\S+ (_+ [^@ ]+|@ \\S* )*|rt\",\"\",i)\n",
    "  # stri = re.sub(r\"# \\S+\",\"\",stri)\n",
    "  stri=stri.replace(\"'ll\",\" will\")\n",
    "  stri=stri.replace(\"'ve\",\" have\")\n",
    "  stri =stri.replace(\"n't\",\" not\")\n",
    "  stri=stri.replace(\"'m\",\" am\")\n",
    "  stri=stri.replace(\"'re\",\" are\")\n",
    "  stri=re.sub(r'\\W+', ' ', stri)\n",
    "  stri=stri.replace(\"_\",\" \")\n",
    "  stri=stri.strip()\n",
    "  all_new_test_tweets.append(stri)"
   ]
  },
  {
   "cell_type": "code",
   "execution_count": 40,
   "metadata": {},
   "outputs": [],
   "source": [
    "train_gt=[]\n",
    "for tweet in data_dir:\n",
    "  sent=tweet[\"sentiment\"]\n",
    "  if sent==\"negative\":\n",
    "    train_gt.append(0)\n",
    "  elif sent==\"neutral\":\n",
    "    train_gt.append(1)\n",
    "  else:\n",
    "    train_gt.append(2)"
   ]
  },
  {
   "cell_type": "code",
   "execution_count": 41,
   "metadata": {},
   "outputs": [],
   "source": [
    "test_gt=[]\n",
    "for tweet in data_test_dir:\n",
    "  sent=tweet[\"sentiment\"]\n",
    "  if sent==\"negative\":\n",
    "    test_gt.append(0)\n",
    "  elif sent==\"neutral\":\n",
    "    test_gt.append(1)\n",
    "  else:\n",
    "    test_gt.append(2)"
   ]
  },
  {
   "cell_type": "code",
   "execution_count": 44,
   "metadata": {},
   "outputs": [],
   "source": [
    "train_texts = all_new_tweets[:]\n",
    "train_texts = [s.lower() for s in train_texts] \n",
    "# print(train_texts[0])\n",
    "test_texts = all_new_test_tweets[:]\n",
    "test_texts = [s.lower() for s in test_texts] \n",
    "\n",
    "#=======================Convert string to index================\n",
    "\n",
    "\n",
    "# Tokenizer\n",
    "tk = Tokenizer(num_words=None, char_level=True, oov_token='UNK')\n",
    "tk.fit_on_texts(train_texts)\n",
    "# If we already have a character list, then replace the tk.word_index\n",
    "# If not, just skip below part\n",
    "# print(len(tk.word_index))\n",
    "#-----------------------Skip part start--------------------------\n",
    "# # construct a new vocabulary \n",
    "# alphabet=\"abcdefghijklmnopqrstuvwxyz0123456789 \"\n",
    "alphabet='UNK abcdefghijklmnopqrstuvwxyz😂❤🤣😍😭😘'\n",
    "# print(len(alphabet))\n",
    "char_dict = {}\n",
    "for i, char in enumerate(alphabet):\n",
    "    char_dict[char] = i + 1\n",
    "    \n",
    "# Use char_dict to replace the tk.word_index\n",
    "tk.word_index = char_dict.copy() \n",
    "# Add 'UNK' to the vocabulary \n",
    "tk.word_index[tk.oov_token] = max(char_dict.values()) + 1\n",
    "#-----------------------Skip part end----------------------------\n",
    "\n",
    "# Convert string to index \n",
    "train_sequences = tk.texts_to_sequences(train_texts)\n",
    "test_texts = tk.texts_to_sequences(test_texts)\n",
    "\n",
    "# Padding\n",
    "train_data = pad_sequences(train_sequences, maxlen=1014, padding='post')\n",
    "test_data = pad_sequences(test_texts, maxlen=1014, padding='post')\n",
    "\n",
    "# Convert to numpy array\n",
    "train_data = np.array(train_data, dtype='float32')\n",
    "test_data = np.array(test_data, dtype='float32')\n",
    "\n",
    "#=======================Get classes================\n",
    "train_classes = train_gt[:]\n",
    "# print(train_classes)\n",
    "train_class_list = [x for x in train_classes]\n",
    "# print(train_class_list)\n",
    "test_classes = test_gt[:]\n",
    "test_class_list = [x for x in test_classes]\n",
    "\n",
    "\n",
    "train_classes = to_categorical(train_class_list)\n",
    "test_classes = to_categorical(test_class_list)"
   ]
  },
  {
   "cell_type": "code",
   "execution_count": 45,
   "metadata": {},
   "outputs": [
    {
     "data": {
      "text/plain": [
       "37"
      ]
     },
     "execution_count": 45,
     "metadata": {},
     "output_type": "execute_result"
    }
   ],
   "source": [
    "vocab_size = len(tk.word_index)\n",
    "vocab_size"
   ]
  },
  {
   "cell_type": "code",
   "execution_count": 46,
   "metadata": {},
   "outputs": [
    {
     "name": "stdout",
     "output_type": "stream",
     "text": [
      "(38, 37)\n"
     ]
    },
    {
     "data": {
      "text/plain": [
       "array([[0., 0., 0., ..., 0., 0., 0.],\n",
       "       [1., 0., 0., ..., 0., 0., 0.],\n",
       "       [0., 1., 0., ..., 0., 0., 0.],\n",
       "       ...,\n",
       "       [0., 0., 0., ..., 1., 0., 0.],\n",
       "       [0., 0., 0., ..., 0., 1., 0.],\n",
       "       [0., 0., 0., ..., 0., 0., 1.]])"
      ]
     },
     "execution_count": 46,
     "metadata": {},
     "output_type": "execute_result"
    }
   ],
   "source": [
    "embedding_weights = [] #(71, 70)\n",
    "embedding_weights.append(np.zeros(vocab_size)) # first row is pad\n",
    "\n",
    "\n",
    "for char, i in tk.word_index.items(): # from index 1 to 70\n",
    "    onehot = np.zeros(vocab_size)\n",
    "    onehot[i-1] = 1\n",
    "    embedding_weights.append(onehot)\n",
    "embedding_weights = np.array(embedding_weights)\n",
    "\n",
    "print(embedding_weights.shape) # first row all 0 for PAD, 69 char, last row for UNK\n",
    "embedding_weights"
   ]
  },
  {
   "cell_type": "code",
   "execution_count": 48,
   "metadata": {},
   "outputs": [],
   "source": [
    "# parameter \n",
    "input_size = 1014\n",
    "# vocab_size = 69\n",
    "embedding_size = 37\n",
    "conv_layers = [[256, 7, 3], \n",
    "               [256, 7, 3], \n",
    "               [256, 3, -1], \n",
    "               [256, 3, -1], \n",
    "               [256, 3, -1], \n",
    "               [256, 3, 3]]\n",
    "\n",
    "fully_connected_layers = [1024, 1024]\n",
    "num_of_classes = 3\n",
    "dropout_p = 0.3\n",
    "optimizer = 'adam'\n",
    "loss = 'categorical_crossentropy'"
   ]
  },
  {
   "cell_type": "code",
   "execution_count": 50,
   "metadata": {},
   "outputs": [
    {
     "name": "stderr",
     "output_type": "stream",
     "text": [
      "W1118 00:17:37.045480 140460972615488 deprecation_wrapper.py:119] From /home/psychiquest/.local/lib/python3.7/site-packages/keras/backend/tensorflow_backend.py:4267: The name tf.nn.max_pool is deprecated. Please use tf.nn.max_pool2d instead.\n",
      "\n"
     ]
    },
    {
     "name": "stdout",
     "output_type": "stream",
     "text": [
      "Model: \"model_2\"\n",
      "_________________________________________________________________\n",
      "Layer (type)                 Output Shape              Param #   \n",
      "=================================================================\n",
      "input (InputLayer)           (None, 1014)              0         \n",
      "_________________________________________________________________\n",
      "embedding_1 (Embedding)      (None, 1014, 37)          1406      \n",
      "_________________________________________________________________\n",
      "conv1d_1 (Conv1D)            (None, 1008, 256)         66560     \n",
      "_________________________________________________________________\n",
      "activation_1 (Activation)    (None, 1008, 256)         0         \n",
      "_________________________________________________________________\n",
      "max_pooling1d_1 (MaxPooling1 (None, 336, 256)          0         \n",
      "_________________________________________________________________\n",
      "conv1d_2 (Conv1D)            (None, 330, 256)          459008    \n",
      "_________________________________________________________________\n",
      "activation_2 (Activation)    (None, 330, 256)          0         \n",
      "_________________________________________________________________\n",
      "max_pooling1d_2 (MaxPooling1 (None, 110, 256)          0         \n",
      "_________________________________________________________________\n",
      "conv1d_3 (Conv1D)            (None, 108, 256)          196864    \n",
      "_________________________________________________________________\n",
      "activation_3 (Activation)    (None, 108, 256)          0         \n",
      "_________________________________________________________________\n",
      "conv1d_4 (Conv1D)            (None, 106, 256)          196864    \n",
      "_________________________________________________________________\n",
      "activation_4 (Activation)    (None, 106, 256)          0         \n",
      "_________________________________________________________________\n",
      "conv1d_5 (Conv1D)            (None, 104, 256)          196864    \n",
      "_________________________________________________________________\n",
      "activation_5 (Activation)    (None, 104, 256)          0         \n",
      "_________________________________________________________________\n",
      "conv1d_6 (Conv1D)            (None, 102, 256)          196864    \n",
      "_________________________________________________________________\n",
      "activation_6 (Activation)    (None, 102, 256)          0         \n",
      "_________________________________________________________________\n",
      "max_pooling1d_3 (MaxPooling1 (None, 34, 256)           0         \n",
      "_________________________________________________________________\n",
      "flatten_1 (Flatten)          (None, 8704)              0         \n",
      "_________________________________________________________________\n",
      "dense_4 (Dense)              (None, 1024)              8913920   \n",
      "_________________________________________________________________\n",
      "dropout_3 (Dropout)          (None, 1024)              0         \n",
      "_________________________________________________________________\n",
      "dense_5 (Dense)              (None, 1024)              1049600   \n",
      "_________________________________________________________________\n",
      "dropout_4 (Dropout)          (None, 1024)              0         \n",
      "_________________________________________________________________\n",
      "dense_6 (Dense)              (None, 3)                 3075      \n",
      "=================================================================\n",
      "Total params: 11,281,025\n",
      "Trainable params: 11,281,025\n",
      "Non-trainable params: 0\n",
      "_________________________________________________________________\n"
     ]
    }
   ],
   "source": [
    "# Model \n",
    "\n",
    "# Input\n",
    "inputs = Input(shape=(input_size,), name='input', dtype='int64')  # shape=(?, 1014)\n",
    "# Embedding \n",
    "x = embedding_layer(inputs)\n",
    "# Conv \n",
    "for filter_num, filter_size, pooling_size in conv_layers:\n",
    "    x = Conv1D(filter_num, filter_size)(x) \n",
    "    x = Activation('relu')(x)\n",
    "    if pooling_size != -1:\n",
    "        x = MaxPooling1D(pool_size=pooling_size)(x) # Final shape=(None, 34, 256)\n",
    "x = Flatten()(x) # (None, 8704)\n",
    "# Fully connected layers \n",
    "for dense_size in fully_connected_layers:\n",
    "    x = Dense(dense_size, activation='relu')(x) # dense_size == 1024\n",
    "    x = Dropout(dropout_p)(x)\n",
    "# Output Layer\n",
    "predictions = Dense(num_of_classes, activation='softmax')(x)\n",
    "# Build model\n",
    "model = Model(inputs=inputs, outputs=predictions)\n",
    "model.compile(optimizer=optimizer, loss=loss, metrics=['accuracy']) # Adam, categorical_crossentropy\n",
    "model.summary()"
   ]
  },
  {
   "cell_type": "code",
   "execution_count": 51,
   "metadata": {},
   "outputs": [],
   "source": [
    "# 1000 training samples and 100 testing samples\n",
    "indices = np.arange(train_data.shape[0])\n",
    "np.random.shuffle(indices)\n",
    "\n",
    "x_train = train_data[indices]\n",
    "y_train = train_classes[indices]\n",
    "x_test = test_data\n",
    "y_test = test_classes"
   ]
  },
  {
   "cell_type": "code",
   "execution_count": 53,
   "metadata": {},
   "outputs": [],
   "source": [
    "# # Training\n",
    "model.fit(x_train, y_train,\n",
    "          validation_data=(x_test, y_test),\n",
    "          batch_size=128,\n",
    "          epochs=10,\n",
    "          verbose=1)"
   ]
  },
  {
   "cell_type": "code",
   "execution_count": null,
   "metadata": {},
   "outputs": [],
   "source": [
    "from sklearn.metrics import classification_report\n",
    "y_pred=model.predict(test_data)\n",
    "y_pred=np.argmax(y_pred,axis=1)\n",
    "print(classification_report(np.argmax(test_classes,axis=1), y_pred ))"
   ]
  },
  {
   "cell_type": "markdown",
   "metadata": {},
   "source": [
    "# FastText"
   ]
  },
  {
   "cell_type": "code",
   "execution_count": null,
   "metadata": {},
   "outputs": [],
   "source": [
    "import fasttext"
   ]
  },
  {
   "cell_type": "code",
   "execution_count": null,
   "metadata": {},
   "outputs": [],
   "source": [
    "with open(\"fasttext-train.txt\",\"w\") as a:\n",
    "    for tweet,label in zip(all_new_tweets,train_gt):\n",
    "        a.writelines(\"__label__\"+str(label)+\" \"+tweet+\"\\n\")"
   ]
  },
  {
   "cell_type": "code",
   "execution_count": null,
   "metadata": {},
   "outputs": [],
   "source": [
    "with open(\"fasttext-test4.txt\",\"w\") as a:\n",
    "    for tweet,label in zip(all_new_test_tweets,test_gt):\n",
    "        a.writelines(tweet+\"\\n\")"
   ]
  },
  {
   "cell_type": "code",
   "execution_count": null,
   "metadata": {},
   "outputs": [],
   "source": [
    "with open(\"fasttext-test-labels.txt\",\"w\") as a:\n",
    "    for label in test_gt:\n",
    "        a.writelines(\"__label__\"+str(label)+\"\\n\")"
   ]
  },
  {
   "cell_type": "code",
   "execution_count": null,
   "metadata": {},
   "outputs": [],
   "source": [
    "model = fasttext.train_supervised('fasttext-train.txt', dim=100)"
   ]
  },
  {
   "cell_type": "code",
   "execution_count": null,
   "metadata": {},
   "outputs": [],
   "source": [
    "with open(\"fasttext-test.txt\",\"r\") as a:\n",
    "    test_tweets=a.readlines()\n",
    "\n",
    "with open(\"fasttext-test-labels.txt\",\"r\") as a:\n",
    "    gt=[x[:-1] for x in a.readlines()]"
   ]
  },
  {
   "cell_type": "code",
   "execution_count": null,
   "metadata": {},
   "outputs": [],
   "source": [
    "from sklearn.metrics import classification_report\n",
    "\n",
    "pred=model.predict([x[:-1] for x in test_tweets])\n",
    "y_gt=[int(x[-1]) for x in gt]\n",
    "y_pred=[int(x[0][-1]) for x in pred[0]]\n",
    "print(classification_report(y_gt, y_pred ))"
   ]
  }
 ],
 "metadata": {
  "kernelspec": {
   "display_name": "Python 3",
   "language": "python",
   "name": "python3"
  },
  "language_info": {
   "codemirror_mode": {
    "name": "ipython",
    "version": 3
   },
   "file_extension": ".py",
   "mimetype": "text/x-python",
   "name": "python",
   "nbconvert_exporter": "python",
   "pygments_lexer": "ipython3",
   "version": "3.7.5rc1"
  }
 },
 "nbformat": 4,
 "nbformat_minor": 2
}
